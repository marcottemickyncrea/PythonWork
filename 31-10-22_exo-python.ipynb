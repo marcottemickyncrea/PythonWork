{
 "cells": [
  {
   "cell_type": "code",
   "execution_count": 8,
   "metadata": {},
   "outputs": [
    {
     "data": {
      "text/plain": [
       "False"
      ]
     },
     "execution_count": 8,
     "metadata": {},
     "output_type": "execute_result"
    }
   ],
   "source": [
    "def pair_impair():\n",
    "    num= int(input())\n",
    "    if num % 2 == 0:\n",
    "        return True\n",
    "    else:\n",
    "        return False\n",
    "pair_impair()"
   ]
  },
  {
   "cell_type": "code",
   "execution_count": 14,
   "metadata": {},
   "outputs": [
    {
     "data": {
      "text/plain": [
       "'Dans un minute, il sera 11: 25'"
      ]
     },
     "execution_count": 14,
     "metadata": {},
     "output_type": "execute_result"
    }
   ],
   "source": [
    "heure= 11\n",
    "minute= 24\n",
    "def minute_plus_un(heure, minute):\n",
    "    if minute + 1 > 59:\n",
    "        heure += 1\n",
    "        minute = '00'\n",
    "    else:\n",
    "        minute += 1\n",
    "    return 'Dans un minute, il sera {}: {}'.format(heure, minute)\n",
    "minute_plus_un(heure, minute)"
   ]
  },
  {
   "cell_type": "code",
   "execution_count": 19,
   "metadata": {},
   "outputs": [
    {
     "data": {
      "text/plain": [
       "'sous-poids'"
      ]
     },
     "execution_count": 19,
     "metadata": {},
     "output_type": "execute_result"
    }
   ],
   "source": [
    "def IMC():\n",
    "    poids = int(input())\n",
    "    taille = float(input())\n",
    "    imc = poids / (taille * taille)\n",
    "    if imc < 18.5:\n",
    "        return 'sous-poids'\n",
    "    elif imc <= 25:\n",
    "        return 'poids normal'\n",
    "    elif imc <= 30:\n",
    "        return 'surpoids'\n",
    "    elif imc <= 40:\n",
    "        return 'Obésité'\n",
    "    elif imc > 40:\n",
    "        return 'Obésité morbide'\n",
    "\n",
    "IMC()"
   ]
  },
  {
   "cell_type": "code",
   "execution_count": 29,
   "metadata": {},
   "outputs": [
    {
     "data": {
      "text/plain": [
       "'Le patron participe à hauteur de 25.0%, le salarié doit payer 7.5 de sa poche'"
      ]
     },
     "execution_count": 29,
     "metadata": {},
     "output_type": "execute_result"
    }
   ],
   "source": [
    "def repas():\n",
    "    statut = input()\n",
    "    enfants = int(input())\n",
    "    salaire = int(input())\n",
    "    prix_repas = float(input())\n",
    "    reduction = 0\n",
    "    if statut == 'célibataire':\n",
    "        reduction =  0.20\n",
    "    else:\n",
    "        reduction =  0.25\n",
    "    reduction +=  enfants * 0.1\n",
    "    if salaire < 1500:\n",
    "        reduction +=  0.1\n",
    "    if reduction > 0.50:\n",
    "        reduction = 0.50\n",
    "    prix_reduit = prix_repas - prix_repas * reduction\n",
    "    return 'Le patron participe à hauteur de {}%, le salarié doit payer {} de sa poche'.format(reduction * 100, prix_reduit)\n",
    "repas()"
   ]
  }
 ],
 "metadata": {
  "kernelspec": {
   "display_name": ".venv",
   "language": "python",
   "name": "python3"
  },
  "language_info": {
   "codemirror_mode": {
    "name": "ipython",
    "version": 3
   },
   "file_extension": ".py",
   "mimetype": "text/x-python",
   "name": "python",
   "nbconvert_exporter": "python",
   "pygments_lexer": "ipython3",
   "version": "3.10.9 (tags/v3.10.9:1dd9be6, Dec  6 2022, 20:01:21) [MSC v.1934 64 bit (AMD64)]"
  },
  "orig_nbformat": 4,
  "vscode": {
   "interpreter": {
    "hash": "f394ba83058c5a142df3c7e87c8296842715c2e07fd446e3acfd6cb9b123e2dc"
   }
  }
 },
 "nbformat": 4,
 "nbformat_minor": 2
}
