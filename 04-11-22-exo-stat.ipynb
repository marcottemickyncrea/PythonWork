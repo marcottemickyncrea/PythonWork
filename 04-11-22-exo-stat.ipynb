{
 "cells": [
  {
   "cell_type": "code",
   "execution_count": 10,
   "metadata": {},
   "outputs": [
    {
     "data": {
      "text/plain": [
       "[196, 169, 186, 183, 180, 187, 191, 183, 168, 186, 181, 182]"
      ]
     },
     "execution_count": 10,
     "metadata": {},
     "output_type": "execute_result"
    }
   ],
   "source": [
    "joueuses = [196, 169, 186, 183,180, 187, 191,183, 168, 186, 181, 182]\n",
    "joueuses"
   ]
  },
  {
   "cell_type": "code",
   "execution_count": 11,
   "metadata": {},
   "outputs": [
    {
     "data": {
      "text/plain": [
       "12"
      ]
     },
     "execution_count": 11,
     "metadata": {},
     "output_type": "execute_result"
    }
   ],
   "source": [
    "effectif_joueuses = len(joueuses)\n",
    "effectif_joueuses"
   ]
  },
  {
   "cell_type": "code",
   "execution_count": 12,
   "metadata": {},
   "outputs": [
    {
     "name": "stdout",
     "output_type": "stream",
     "text": [
      "168, 196\n"
     ]
    }
   ],
   "source": [
    "joueuses_min = min(joueuses)\n",
    "joueuses_max = max(joueuses)\n",
    "print('{}, {}'.format(joueuses_min, joueuses_max))"
   ]
  },
  {
   "cell_type": "code",
   "execution_count": 13,
   "metadata": {},
   "outputs": [
    {
     "data": {
      "text/plain": [
       "28"
      ]
     },
     "execution_count": 13,
     "metadata": {},
     "output_type": "execute_result"
    }
   ],
   "source": [
    "etendu_joueuses= joueuses_max - joueuses_min\n",
    "etendu_joueuses"
   ]
  },
  {
   "cell_type": "code",
   "execution_count": 15,
   "metadata": {},
   "outputs": [
    {
     "data": {
      "text/plain": [
       "182.66666666666666"
      ]
     },
     "execution_count": 15,
     "metadata": {},
     "output_type": "execute_result"
    }
   ],
   "source": [
    "moy_joueuses = sum(joueuses) / effectif_joueuses\n",
    "moy_joueuses"
   ]
  },
  {
   "cell_type": "code",
   "execution_count": 34,
   "metadata": {},
   "outputs": [
    {
     "data": {
      "text/plain": [
       "183"
      ]
     },
     "execution_count": 34,
     "metadata": {},
     "output_type": "execute_result"
    }
   ],
   "source": [
    "sort = sorted(joueuses)\n",
    "mediane = (sort[(effectif_joueuses - 1)// 2] + sort[(effectif_joueuses)// 2]) // 2\n",
    "mediane"
   ]
  },
  {
   "cell_type": "code",
   "execution_count": 35,
   "metadata": {},
   "outputs": [],
   "source": [
    "exer2_1 = [13, 15, 12, 18, 16, 13, 11]\n",
    "exer2_2 = [31, 28, 31, 35, 33, 29]\n",
    "exer2_3 = [9.5, 7, 10.5, 11, 8, 13]"
   ]
  },
  {
   "cell_type": "code",
   "execution_count": 38,
   "metadata": {},
   "outputs": [
    {
     "name": "stdout",
     "output_type": "stream",
     "text": [
      "13\n"
     ]
    },
    {
     "data": {
      "text/plain": [
       "10.0"
      ]
     },
     "execution_count": 38,
     "metadata": {},
     "output_type": "execute_result"
    }
   ],
   "source": [
    "mediane_2_1 = sorted(exer2_1)[(len(exer2_1) - 1) // 2] \n",
    "print(mediane_2_1)\n",
    "mediane_2_2 = (sorted(exer2_2)[(len(exer2_2) - 1) // 2]  + sorted(exer2_2)[(len(exer2_2)) // 2] ) // 2\n",
    "mediane_2_2\n",
    "mediane_2_3 = (sorted(exer2_3)[(len(exer2_3) - 1) // 2]  + sorted(exer2_3)[(len(exer2_3)) // 2] ) // 2\n",
    "mediane_2_3"
   ]
  }
 ],
 "metadata": {
  "kernelspec": {
   "display_name": ".venv",
   "language": "python",
   "name": "python3"
  },
  "language_info": {
   "codemirror_mode": {
    "name": "ipython",
    "version": 3
   },
   "file_extension": ".py",
   "mimetype": "text/x-python",
   "name": "python",
   "nbconvert_exporter": "python",
   "pygments_lexer": "ipython3",
   "version": "3.10.9 (tags/v3.10.9:1dd9be6, Dec  6 2022, 20:01:21) [MSC v.1934 64 bit (AMD64)]"
  },
  "orig_nbformat": 4,
  "vscode": {
   "interpreter": {
    "hash": "f394ba83058c5a142df3c7e87c8296842715c2e07fd446e3acfd6cb9b123e2dc"
   }
  }
 },
 "nbformat": 4,
 "nbformat_minor": 2
}
