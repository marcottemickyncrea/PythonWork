{
 "cells": [
  {
   "cell_type": "markdown",
   "id": "c167f569",
   "metadata": {},
   "source": [
    "### Ouvrir un fichier texte"
   ]
  },
  {
   "cell_type": "code",
   "execution_count": 3,
   "id": "64ceba18",
   "metadata": {},
   "outputs": [
    {
     "name": "stdout",
     "output_type": "stream",
     "text": [
      "[Errno 2] No such file or directory: 'votre_path_fichier_txt'\n"
     ]
    }
   ],
   "source": [
    "try:\n",
    "    open(\"votre_path_fichier_txt\", \"r\") #ex : /dossier1/dossier2/mon_beau_fichier.txt\n",
    "except Exception as e:\n",
    "    print(e)"
   ]
  },
  {
   "cell_type": "markdown",
   "id": "65c08c8e",
   "metadata": {},
   "source": [
    "### Enlever une lettre ou des mots dans une chaîne de caractères"
   ]
  },
  {
   "cell_type": "code",
   "execution_count": 4,
   "id": "284246df",
   "metadata": {},
   "outputs": [
    {
     "data": {
      "text/plain": [
       "'Je ui erieuement en retard pour mon cour'"
      ]
     },
     "execution_count": 4,
     "metadata": {},
     "output_type": "execute_result"
    }
   ],
   "source": [
    "ma_phrase = \"Je suis serieusement en retard pour mon cours\"\n",
    "ma_phrase_sans_s  = ma_phrase.replace('s', '')\n",
    "ma_phrase_sans_s"
   ]
  },
  {
   "cell_type": "markdown",
   "id": "f6c43998",
   "metadata": {},
   "source": [
    "### Lire un fichier csv"
   ]
  },
  {
   "cell_type": "code",
   "execution_count": 5,
   "id": "179ad15a",
   "metadata": {},
   "outputs": [
    {
     "name": "stdout",
     "output_type": "stream",
     "text": [
      "[Errno 2] No such file or directory: 'votre_path_fichier_csv'\n"
     ]
    }
   ],
   "source": [
    "import pandas as pd\n",
    "\n",
    "try:\n",
    "    # la ligne ci-dessous renvoit un dataframe\n",
    "    pd.read_csv('votre_path_fichier_csv')  #ex : /dossier1/dossier2/mon_beau_fichier.csv\n",
    "except Exception as e:\n",
    "    print(e)"
   ]
  },
  {
   "cell_type": "markdown",
   "id": "34578c09",
   "metadata": {},
   "source": [
    "### Itération dans un dataframe"
   ]
  },
  {
   "cell_type": "code",
   "execution_count": 10,
   "id": "8198328d",
   "metadata": {},
   "outputs": [
    {
     "name": "stdout",
     "output_type": "stream",
     "text": [
      "valeur col n°1 : 1 <class 'int'> | valeur col n°2 :  mais <class 'str'> \n",
      "valeur col n°1 : 2 <class 'int'> | valeur col n°2 :  où <class 'str'> \n",
      "valeur col n°1 : 3 <class 'int'> | valeur col n°2 :  est <class 'str'> \n",
      "valeur col n°1 : 4 <class 'int'> | valeur col n°2 :  donc <class 'str'> \n",
      "valeur col n°1 : 5 <class 'int'> | valeur col n°2 :  Ornicar <class 'str'> \n"
     ]
    }
   ],
   "source": [
    "d = {'colonne_n1': [1, 2, 3, 4, 5], 'colonne_n2': [\"mais\", \"où\", \"est\", \"donc\", \"Ornicar\"]}\n",
    "mon_dataframe = pd.DataFrame(data=d)\n",
    "\n",
    "for index ,data in mon_dataframe.iterrows():\n",
    "    print(f\"\"\"valeur col n°1 : {data[\"colonne_n1\"]} {type(data[\"colonne_n1\"])} |\"\"\"\n",
    "          f\"\"\" valeur col n°2 :  {data[\"colonne_n2\"]} {type(data[\"colonne_n2\"])} \"\"\")"
   ]
  },
  {
   "cell_type": "markdown",
   "id": "2c7e4473",
   "metadata": {},
   "source": [
    "### [MySQL & mysql.connector]  INSERT INTO...VALUES...ON DUPLICATE KEY UPDATE  (Insérer une donnée ou la mettre à jour si elle existe déjà)"
   ]
  },
  {
   "cell_type": "code",
   "execution_count": 22,
   "id": "49c07d3b",
   "metadata": {},
   "outputs": [
    {
     "name": "stdout",
     "output_type": "stream",
     "text": [
      "INSERT INTO ma_table (col1, col2, col3, col4) VALUES (\"ici\", \"là\", \"là-bas\", 36) ON DUPLICATE KEY UPDATE col4 = 36;\n",
      "c'est fermé\n"
     ]
    }
   ],
   "source": [
    "try:\n",
    "    ## Connexion BDD, etc\n",
    "    \n",
    "    \n",
    "    col1_value = \"ici\"\n",
    "    col2_value = \"là\"\n",
    "    col3_value = \"là-bas\"\n",
    "    col4_value = 36\n",
    "    \n",
    "    \n",
    "    sql = f\"\"\"INSERT INTO ma_table (col1, col2, col3, col4) \"\"\"\n",
    "    sql += f\"\"\"VALUES (\"{col1_value}\", \"{col2_value}\", \"{col3_value}\", {col4_value}) \"\"\"\n",
    "    sql += f\"\"\"ON DUPLICATE KEY UPDATE col4 = {col4_value};\"\"\"\n",
    "    \n",
    "    print(sql)\n",
    "    \n",
    "except Exception as e:\n",
    "    print(e)\n",
    "    \n",
    "finally:\n",
    "    ## Fermeture connexion BDD, etc\n",
    "    print(\"c'est fermé\")"
   ]
  },
  {
   "cell_type": "markdown",
   "id": "a2958d9f",
   "metadata": {},
   "source": [
    "### Insérer une date dans une table via mysql.connector via strftime()"
   ]
  },
  {
   "cell_type": "code",
   "execution_count": 12,
   "id": "53fade32",
   "metadata": {},
   "outputs": [
    {
     "name": "stdout",
     "output_type": "stream",
     "text": [
      "mauvais_format_pour_sql_query : 2022-12-17 14:04:19.364865\n",
      "bon_format_pour_sql_query : 20221217140419\n"
     ]
    }
   ],
   "source": [
    "import datetime\n",
    "\n",
    "# Date actuelle (au moment de l'écrire du notebook) qui n'est pas acceptée par mysql.connector\n",
    "mauvais_format_pour_sql_query =  datetime.datetime.now()\n",
    "\n",
    "bon_format_pour_sql_query = datetime.datetime.now().strftime(\"%Y%m%d%H%M%S\")\n",
    "\n",
    "print(f\"mauvais_format_pour_sql_query : {mauvais_format_pour_sql_query}\")\n",
    "print(f\"bon_format_pour_sql_query : {bon_format_pour_sql_query}\")"
   ]
  }
 ],
 "metadata": {
  "kernelspec": {
   "display_name": ".venv",
   "language": "python",
   "name": "python3"
  },
  "language_info": {
   "codemirror_mode": {
    "name": "ipython",
    "version": 3
   },
   "file_extension": ".py",
   "mimetype": "text/x-python",
   "name": "python",
   "nbconvert_exporter": "python",
   "pygments_lexer": "ipython3",
   "version": "3.10.9 (tags/v3.10.9:1dd9be6, Dec  6 2022, 20:01:21) [MSC v.1934 64 bit (AMD64)]"
  },
  "vscode": {
   "interpreter": {
    "hash": "f394ba83058c5a142df3c7e87c8296842715c2e07fd446e3acfd6cb9b123e2dc"
   }
  }
 },
 "nbformat": 4,
 "nbformat_minor": 5
}
