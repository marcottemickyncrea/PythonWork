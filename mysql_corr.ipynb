{
 "cells": [
  {
   "cell_type": "markdown",
   "metadata": {},
   "source": [
    "# Connecteur MySQL\n",
    "\n",
    "### Base Breizhibus\n",
    "\n",
    "Nous allons interroger la base Breizhibus avec Python.\n",
    "\n",
    "*ATTENTION* : pour que la connexion se fasse, il faut que le serveur de bases de données soit démarré.\n",
    "\n",
    "**exercice 1** : ouvrir la connexion vers la base dans Python et penser à récupérer le curseur.\n",
    "\n",
    "**exercice 2** : lire en base la liste de tous les bus et afficher dans la console la plaque d'immatriculation et le nombre de places.\n",
    "\n",
    "Vous aurez besoin de la requête suivante : `SELECT * FROM bus;`\n",
    "\n",
    "**exercice 3** : insérer la ligne jaune dans la table Lignes à partir de Python.\n",
    "\n",
    "Vous aurez besoin de la requête suivante : `INSERT INTO lignes(nom) VALUES (\"Jaune\")`\n",
    "\n",
    "**exercice 4** : lire la table ligne, à partir de Python, pour afficher tous les noms des lignes.\n",
    "\n",
    "Vous aurez besoin de la requête suivante : `SELECT * FROM lignes;`\n"
   ]
  },
  {
   "cell_type": "code",
   "execution_count": 2,
   "metadata": {},
   "outputs": [
    {
     "name": "stdout",
     "output_type": "stream",
     "text": [
      "BB01\n",
      "20\n",
      "BB02\n",
      "30\n",
      "BB03\n",
      "20\n",
      "BB04\n",
      "30\n",
      "Rouge\n",
      "Vert\n",
      "Bleu\n",
      "Jaune\n"
     ]
    }
   ],
   "source": [
    "import mysql.connector as mysqlpy\n",
    "\n",
    "user = 'root'\n",
    "password = 'example'\n",
    "host = 'localhost'\n",
    "port = '3308'\n",
    "database = 'breizhibus'\n",
    "\n",
    "# ouvrir la connexion\n",
    "# récupérer le curseur\n",
    "bdd = mysqlpy.connect(user=user, password=password, host=host, port=port, database=database)\n",
    "cursor = bdd.cursor()\n",
    "\n",
    "# exercice 2\n",
    "# exécuter la requête\n",
    "query=\"SELECT * FROM bus\"\n",
    "cursor.execute(query)\n",
    "\n",
    "# parcourir le curseur pour afficher les données\n",
    "for bus in cursor :\n",
    "        print(bus[1])\n",
    "        print(bus[3])\n",
    "\n",
    "# exercice 3\n",
    "# exécuter la requête\n",
    "# commiter les modifications en base de données\n",
    "query = \"INSERT INTO lignes(nom) VALUES ('Jaune')\"\n",
    "cursor.execute(query)\n",
    "bdd.commit()\n",
    "\n",
    "#exercice 4\n",
    "# afficher toutes les lignes de bus dans la console\n",
    "query=\"SELECT * FROM lignes\"\n",
    "cursor.execute(query)\n",
    "\n",
    "for ligne in cursor :\n",
    "        print(ligne[1])\n",
    "\n",
    "# penser à tout cloturer\n",
    "cursor.close()\n",
    "bdd.close()"
   ]
  },
  {
   "cell_type": "markdown",
   "metadata": {},
   "source": [
    "### Cabinet Médical\n",
    "\n",
    "Dans le cellule suivante, préparez du code Python qui se connecte à la base de donnée cabinet médical, affiche dans la console tous les nom et prénom des médecins.\n",
    "Puis ajoutez un nouveau client et les lister dans la console, après avoir relu la table en base.\n",
    "Enfin clôturé tout.\n",
    "\n",
    "**Les requêtes**\n",
    "\n",
    "- Lire tous les médecins : `SELECT * FROM medecins;`\n",
    "- Ajouter un client : `INSERT clients (nom, prenom, titre) VALUES ('Wyatt','Penny',2);`\n",
    "- Lire tous les clients : `SELECT * FROM clients;`\n",
    "\n"
   ]
  },
  {
   "cell_type": "code",
   "execution_count": 1,
   "metadata": {},
   "outputs": [
    {
     "name": "stdout",
     "output_type": "stream",
     "text": [
      "Stésie\n",
      "Anna\n",
      "Penny\n",
      "Céline\n",
      "Ergie\n",
      "Hal\n",
      "Hofstadter\n",
      "Léonard\n",
      "Cooper\n",
      "Sheldon\n",
      "Fowler\n",
      "Amy-Farrah\n",
      "Rostenkowski\n",
      "Bernadette\n",
      "Koothrappali\n",
      "Rajesh\n",
      "Wyatt\n",
      "Penny\n"
     ]
    }
   ],
   "source": [
    "import mysql.connector as mysqlpy\n",
    "\n",
    "user = 'root'\n",
    "password = 'example'\n",
    "host = 'localhost'\n",
    "port = '3307'\n",
    "database = 'cabinet_medical'\n",
    "\n",
    "# ouvrir la connexion\n",
    "# récupérer le curseur\n",
    "bdd = mysqlpy.connect(user=user, password=password, host=host, port=port, database=database)\n",
    "cursor = bdd.cursor()\n",
    "\n",
    "# exécuter la requête\n",
    "query=\"SELECT * FROM medecins;\"\n",
    "cursor.execute(query)\n",
    "\n",
    "# parcourir le curseur pour afficher les données\n",
    "for medecin in cursor :\n",
    "        print (medecin[1])\n",
    "        print (medecin[2])\n",
    "\n",
    "# exécuter la requête\n",
    "# commiter les modifications en base de données\n",
    "query = \"INSERT clients (nom, prenom, titre) VALUES ('Wyatt','Penny',2);\"\n",
    "cursor.execute(query)\n",
    "bdd.commit()\n",
    "\n",
    "# afficher tous les clients dans la console\n",
    "query=\"SELECT * FROM clients;\"\n",
    "cursor.execute(query)\n",
    "\n",
    "for ligne in cursor :\n",
    "        print(ligne[1])\n",
    "        print(ligne[2])\n",
    "\n",
    "# penser à tout cloturer\n",
    "cursor.close()\n",
    "bdd.close()"
   ]
  }
 ],
 "metadata": {
  "kernelspec": {
   "display_name": ".venv",
   "language": "python",
   "name": "python3"
  },
  "language_info": {
   "codemirror_mode": {
    "name": "ipython",
    "version": 3
   },
   "file_extension": ".py",
   "mimetype": "text/x-python",
   "name": "python",
   "nbconvert_exporter": "python",
   "pygments_lexer": "ipython3",
   "version": "3.10.9 (tags/v3.10.9:1dd9be6, Dec  6 2022, 20:01:21) [MSC v.1934 64 bit (AMD64)]"
  },
  "orig_nbformat": 4,
  "vscode": {
   "interpreter": {
    "hash": "f394ba83058c5a142df3c7e87c8296842715c2e07fd446e3acfd6cb9b123e2dc"
   }
  }
 },
 "nbformat": 4,
 "nbformat_minor": 2
}
