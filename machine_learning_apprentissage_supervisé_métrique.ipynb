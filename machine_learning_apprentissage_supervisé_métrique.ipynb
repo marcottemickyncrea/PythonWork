{
 "cells": [
  {
   "attachments": {},
   "cell_type": "markdown",
   "metadata": {},
   "source": [
    "# Métriques de régression"
   ]
  },
  {
   "attachments": {},
   "cell_type": "markdown",
   "metadata": {},
   "source": [
    "mesurer les erreurs en prédiction et valeur du dataset <br/>\n",
    "pb => les erreurs peuvent être positive ou negative"
   ]
  },
  {
   "attachments": {},
   "cell_type": "markdown",
   "metadata": {},
   "source": [
    "MSE => Main Squared Error (erreur quadratique moyenne)<br/>\n",
    "MSE = 1/m * somme(y vrai - y pred)²"
   ]
  },
  {
   "attachments": {},
   "cell_type": "markdown",
   "metadata": {},
   "source": [
    "MAE => Main Absolute Error (erreur absolue moyenne)<br/>\n",
    "MAE = 1/m * somme|y vrai - y pred| "
   ]
  },
  {
   "attachments": {},
   "cell_type": "markdown",
   "metadata": {},
   "source": [
    "RMSE => Root Main Squared Error <br>\n",
    "RMSE = racine carré(MAE) <br>\n",
    "permet de remettre à l'échelle initiale les erreurs calculées"
   ]
  },
  {
   "cell_type": "code",
   "execution_count": 2,
   "metadata": {},
   "outputs": [],
   "source": [
    "import numpy as np\n",
    "import matplotlib.pyplot as plt\n",
    "from sklearn.metrics import *"
   ]
  },
  {
   "cell_type": "code",
   "execution_count": 3,
   "metadata": {},
   "outputs": [],
   "source": [
    "y = np.array([1])\n",
    "y_pred = np.array([1])"
   ]
  },
  {
   "cell_type": "code",
   "execution_count": 5,
   "metadata": {},
   "outputs": [
    {
     "name": "stdout",
     "output_type": "stream",
     "text": [
      "MAE : 0.0\n",
      "MSE : 0.0\n"
     ]
    }
   ],
   "source": [
    "print('MAE :', mean_absolute_error(y, y_pred))\n",
    "print('MSE :', mean_squared_error(y, y_pred))\n",
    "#valeur égal à zéro car les deux tableaux sont identiques"
   ]
  },
  {
   "cell_type": "code",
   "execution_count": 6,
   "metadata": {},
   "outputs": [
    {
     "name": "stdout",
     "output_type": "stream",
     "text": [
      "MAE : 1.0\n",
      "MSE : 1.0\n"
     ]
    }
   ],
   "source": [
    "y = np.array([1])\n",
    "y_pred = np.array([2])\n",
    "print('MAE :', mean_absolute_error(y, y_pred))\n",
    "print('MSE :', mean_squared_error(y, y_pred))"
   ]
  },
  {
   "cell_type": "code",
   "execution_count": 7,
   "metadata": {},
   "outputs": [
    {
     "name": "stdout",
     "output_type": "stream",
     "text": [
      "MAE : 2.0\n",
      "MSE : 4.0\n"
     ]
    }
   ],
   "source": [
    "y = np.array([1])\n",
    "y_pred = np.array([3])\n",
    "print('MAE :', mean_absolute_error(y, y_pred))\n",
    "print('MSE :', mean_squared_error(y, y_pred))\n",
    "#MSE n'est pas le carré de MAE"
   ]
  },
  {
   "cell_type": "code",
   "execution_count": 9,
   "metadata": {},
   "outputs": [
    {
     "name": "stdout",
     "output_type": "stream",
     "text": [
      "MAE : 2.0\n",
      "MSE : 8.0\n"
     ]
    }
   ],
   "source": [
    "y = np.array([1, 2])\n",
    "y_pred = np.array([5, 2])\n",
    "print('MAE :', mean_absolute_error(y, y_pred))\n",
    "print('MSE :', mean_squared_error(y, y_pred))"
   ]
  },
  {
   "cell_type": "code",
   "execution_count": 10,
   "metadata": {},
   "outputs": [
    {
     "name": "stdout",
     "output_type": "stream",
     "text": [
      "MAE : 2.0\n",
      "MSE : 8.0\n",
      "RMSE : 2.8284271247461903\n"
     ]
    }
   ],
   "source": [
    "y = np.array([1, 2])\n",
    "y_pred = np.array([5, 2])\n",
    "print('MAE :', mean_absolute_error(y, y_pred))\n",
    "print('MSE :', mean_squared_error(y, y_pred))\n",
    "print('RMSE :', np.sqrt(mean_squared_error(y, y_pred)))"
   ]
  },
  {
   "attachments": {},
   "cell_type": "markdown",
   "metadata": {},
   "source": [
    "MSE => importance d'une erreur est exponentielle avec son amplitude => pénalise beaucoup plus les grandes erreurs par au dataset <br>\n",
    "MAE => importance d'une erreur est linéaire avec son amplitude => si le dataset contient des valeurs abérrantes<br>\n",
    "exemple => calcul de la distance de freinage => MSE"
   ]
  },
  {
   "attachments": {},
   "cell_type": "markdown",
   "metadata": {},
   "source": [
    "MAE => Median Absolute Error <br>\n",
    "attention, a les mêmes initiales que Main Absolute Error <br>\n",
    "MAE = median{|y vrain - y pred|} => très peu sensible aux grandes erreurs"
   ]
  },
  {
   "cell_type": "code",
   "execution_count": 14,
   "metadata": {},
   "outputs": [
    {
     "name": "stdout",
     "output_type": "stream",
     "text": [
      "MAE : 167.66666666666666\n",
      "RMSE : 407.43670265044443\n",
      "Median Absolute Error : 2.0\n"
     ]
    }
   ],
   "source": [
    "y = np.array([1, 2, 2, 3, 5, 2])\n",
    "y_pred = np.array([5, 2, 2, 5, 7 , 1000])\n",
    "\n",
    "print('MAE :', mean_absolute_error(y, y_pred))\n",
    "print('RMSE :', np.sqrt(mean_squared_error(y, y_pred)))\n",
    "#donne l'impression de réaliser de très grosse erreur\n",
    "print('Median Absolute Error :', median_absolute_error(y, y_pred))"
   ]
  },
  {
   "attachments": {},
   "cell_type": "markdown",
   "metadata": {},
   "source": [
    "Toutes les métriques doivent être utilisé pour fournir beaucoup d'information."
   ]
  },
  {
   "attachments": {},
   "cell_type": "markdown",
   "metadata": {},
   "source": [
    "model.score() => coefficient de détermination R² utilisé par défaut"
   ]
  }
 ],
 "metadata": {
  "kernelspec": {
   "display_name": ".venv",
   "language": "python",
   "name": "python3"
  },
  "language_info": {
   "codemirror_mode": {
    "name": "ipython",
    "version": 3
   },
   "file_extension": ".py",
   "mimetype": "text/x-python",
   "name": "python",
   "nbconvert_exporter": "python",
   "pygments_lexer": "ipython3",
   "version": "3.10.9"
  },
  "orig_nbformat": 4,
  "vscode": {
   "interpreter": {
    "hash": "f394ba83058c5a142df3c7e87c8296842715c2e07fd446e3acfd6cb9b123e2dc"
   }
  }
 },
 "nbformat": 4,
 "nbformat_minor": 2
}
