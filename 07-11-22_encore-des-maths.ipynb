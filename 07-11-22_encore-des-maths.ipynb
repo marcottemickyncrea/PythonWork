{
 "cells": [
  {
   "cell_type": "code",
   "execution_count": 89,
   "metadata": {},
   "outputs": [],
   "source": [
    "import numpy as np"
   ]
  },
  {
   "attachments": {},
   "cell_type": "markdown",
   "metadata": {},
   "source": [
    "# méthodes ndarray"
   ]
  },
  {
   "cell_type": "code",
   "execution_count": 90,
   "metadata": {},
   "outputs": [
    {
     "data": {
      "text/plain": [
       "array([[5, 0, 3, 3, 7],\n",
       "       [9, 3, 5, 2, 4],\n",
       "       [7, 6, 8, 8, 1],\n",
       "       [6, 7, 7, 8, 1],\n",
       "       [5, 9, 8, 9, 4]])"
      ]
     },
     "execution_count": 90,
     "metadata": {},
     "output_type": "execute_result"
    }
   ],
   "source": [
    "np.random.seed(0)\n",
    "A = np.random.randint(0, 10, [5, 5])\n",
    "A"
   ]
  },
  {
   "cell_type": "code",
   "execution_count": 91,
   "metadata": {},
   "outputs": [
    {
     "data": {
      "text/plain": [
       "135"
      ]
     },
     "execution_count": 91,
     "metadata": {},
     "output_type": "execute_result"
    }
   ],
   "source": [
    "A.sum()"
   ]
  },
  {
   "attachments": {},
   "cell_type": "markdown",
   "metadata": {},
   "source": [
    "axis = 0 représente l'axe des  colonnes<br/>\n",
    "axis = 1 représente l'axe des lignes<br/>\n",
    "peut être utilisé avec toutes les méthodes ci-dessous"
   ]
  },
  {
   "cell_type": "code",
   "execution_count": 92,
   "metadata": {},
   "outputs": [
    {
     "data": {
      "text/plain": [
       "array([32, 25, 31, 30, 17])"
      ]
     },
     "execution_count": 92,
     "metadata": {},
     "output_type": "execute_result"
    }
   ],
   "source": [
    "A.sum(axis=0) #axis = 0 provoque la somme des colonnes"
   ]
  },
  {
   "cell_type": "code",
   "execution_count": 93,
   "metadata": {},
   "outputs": [
    {
     "data": {
      "text/plain": [
       "array([18, 23, 30, 29, 35])"
      ]
     },
     "execution_count": 93,
     "metadata": {},
     "output_type": "execute_result"
    }
   ],
   "source": [
    "A.sum(axis=1) #axis = & provoque la somme des lignes"
   ]
  },
  {
   "cell_type": "code",
   "execution_count": 94,
   "metadata": {},
   "outputs": [
    {
     "data": {
      "text/plain": [
       "array([  5,   5,   8,  11,  18,  27,  30,  35,  37,  41,  48,  54,  62,\n",
       "        70,  71,  77,  84,  91,  99, 100, 105, 114, 122, 131, 135])"
      ]
     },
     "execution_count": 94,
     "metadata": {},
     "output_type": "execute_result"
    }
   ],
   "source": [
    "A.cumsum() #somme cumulée"
   ]
  },
  {
   "cell_type": "code",
   "execution_count": 95,
   "metadata": {},
   "outputs": [
    {
     "data": {
      "text/plain": [
       "array([[ 5,  0,  3,  3,  7],\n",
       "       [14,  3,  8,  5, 11],\n",
       "       [21,  9, 16, 13, 12],\n",
       "       [27, 16, 23, 21, 13],\n",
       "       [32, 25, 31, 30, 17]])"
      ]
     },
     "execution_count": 95,
     "metadata": {},
     "output_type": "execute_result"
    }
   ],
   "source": [
    "A.cumsum(axis=0)"
   ]
  },
  {
   "cell_type": "code",
   "execution_count": 96,
   "metadata": {},
   "outputs": [
    {
     "data": {
      "text/plain": [
       "array([[ 5,  5,  8, 11, 18],\n",
       "       [ 9, 12, 17, 19, 23],\n",
       "       [ 7, 13, 21, 29, 30],\n",
       "       [ 6, 13, 20, 28, 29],\n",
       "       [ 5, 14, 22, 31, 35]])"
      ]
     },
     "execution_count": 96,
     "metadata": {},
     "output_type": "execute_result"
    }
   ],
   "source": [
    "A.cumsum(axis=1)"
   ]
  },
  {
   "cell_type": "code",
   "execution_count": 97,
   "metadata": {},
   "outputs": [
    {
     "data": {
      "text/plain": [
       "array([5, 0, 0, 0, 0, 0, 0, 0, 0, 0, 0, 0, 0, 0, 0, 0, 0, 0, 0, 0, 0, 0,\n",
       "       0, 0, 0])"
      ]
     },
     "execution_count": 97,
     "metadata": {},
     "output_type": "execute_result"
    }
   ],
   "source": [
    "A.prod() #produit\n",
    "A.cumprod() #produit cumulé"
   ]
  },
  {
   "cell_type": "code",
   "execution_count": 98,
   "metadata": {},
   "outputs": [
    {
     "data": {
      "text/plain": [
       "array([0, 2, 1, 1, 4])"
      ]
     },
     "execution_count": 98,
     "metadata": {},
     "output_type": "execute_result"
    }
   ],
   "source": [
    "A.min(axis=1)"
   ]
  },
  {
   "cell_type": "code",
   "execution_count": 99,
   "metadata": {},
   "outputs": [
    {
     "data": {
      "text/plain": [
       "array([0, 0, 0, 1, 2], dtype=int64)"
      ]
     },
     "execution_count": 99,
     "metadata": {},
     "output_type": "execute_result"
    }
   ],
   "source": [
    "A.argmin(axis=0) #index de la valeur la plus faible, car 3 est sur la deuxième ligne donc 1 et 0 et 3 sont sur \n",
    "#la première ligne"
   ]
  },
  {
   "cell_type": "code",
   "execution_count": 100,
   "metadata": {},
   "outputs": [],
   "source": [
    "#A.sort() #range les valeurs par ordre croisant par défaut sur la ligne"
   ]
  },
  {
   "attachments": {},
   "cell_type": "markdown",
   "metadata": {},
   "source": [
    "# méthodes mathématiques de numpy"
   ]
  },
  {
   "attachments": {},
   "cell_type": "markdown",
   "metadata": {},
   "source": [
    "pour accéder aux fonctions mathématiques np.nom_fonction(valor)"
   ]
  },
  {
   "cell_type": "code",
   "execution_count": 101,
   "metadata": {},
   "outputs": [
    {
     "data": {
      "text/plain": [
       "array([[1.48413159e+02, 1.00000000e+00, 2.00855369e+01, 2.00855369e+01,\n",
       "        1.09663316e+03],\n",
       "       [8.10308393e+03, 2.00855369e+01, 1.48413159e+02, 7.38905610e+00,\n",
       "        5.45981500e+01],\n",
       "       [1.09663316e+03, 4.03428793e+02, 2.98095799e+03, 2.98095799e+03,\n",
       "        2.71828183e+00],\n",
       "       [4.03428793e+02, 1.09663316e+03, 1.09663316e+03, 2.98095799e+03,\n",
       "        2.71828183e+00],\n",
       "       [1.48413159e+02, 8.10308393e+03, 2.98095799e+03, 8.10308393e+03,\n",
       "        5.45981500e+01]])"
      ]
     },
     "execution_count": 101,
     "metadata": {},
     "output_type": "execute_result"
    }
   ],
   "source": [
    "np.exp(A)"
   ]
  },
  {
   "attachments": {},
   "cell_type": "markdown",
   "metadata": {},
   "source": [
    "# les statistiques avec numpy"
   ]
  },
  {
   "cell_type": "code",
   "execution_count": 102,
   "metadata": {},
   "outputs": [
    {
     "data": {
      "text/plain": [
       "array([6.4, 5. , 6.2, 6. , 3.4])"
      ]
     },
     "execution_count": 102,
     "metadata": {},
     "output_type": "execute_result"
    }
   ],
   "source": [
    "A.mean(axis=0) #moyenne"
   ]
  },
  {
   "cell_type": "code",
   "execution_count": 103,
   "metadata": {},
   "outputs": [
    {
     "data": {
      "text/plain": [
       "2.6683328128252666"
      ]
     },
     "execution_count": 103,
     "metadata": {},
     "output_type": "execute_result"
    }
   ],
   "source": [
    "A.std() #écart-type"
   ]
  },
  {
   "cell_type": "code",
   "execution_count": 104,
   "metadata": {},
   "outputs": [
    {
     "data": {
      "text/plain": [
       "7.12"
      ]
     },
     "execution_count": 104,
     "metadata": {},
     "output_type": "execute_result"
    }
   ],
   "source": [
    "A.var() #variance"
   ]
  },
  {
   "attachments": {},
   "cell_type": "markdown",
   "metadata": {},
   "source": [
    "## méthodes pour les statistiques"
   ]
  },
  {
   "cell_type": "code",
   "execution_count": 105,
   "metadata": {},
   "outputs": [
    {
     "data": {
      "text/plain": [
       "0.39741306906256163"
      ]
     },
     "execution_count": 105,
     "metadata": {},
     "output_type": "execute_result"
    }
   ],
   "source": [
    "np.corrcoef(A)[0, 1] #coefficient de correlation \n",
    "# [0, 1] permet d'accéder à la valeur"
   ]
  },
  {
   "cell_type": "code",
   "execution_count": 115,
   "metadata": {},
   "outputs": [
    {
     "name": "stdout",
     "output_type": "stream",
     "text": [
      "[1 2 1 3 2 3 2 4 4 3]\n",
      "[0 1 2 3 4 5 6 7 8 9]\n",
      "[0 2 1 4 6 3 5 9 7 8]\n"
     ]
    }
   ],
   "source": [
    "values, counts = np.unique(A, return_counts=True) #renvoie le nombre fois qu'une valeur se répète\n",
    "counts_arg = counts.argsort()\n",
    "print(counts)\n",
    "print(values)\n",
    "print(counts_arg)"
   ]
  },
  {
   "cell_type": "code",
   "execution_count": 112,
   "metadata": {},
   "outputs": [
    {
     "data": {
      "text/plain": [
       "array([0, 2, 1, 4, 6, 3, 5, 9, 7, 8])"
      ]
     },
     "execution_count": 112,
     "metadata": {},
     "output_type": "execute_result"
    }
   ],
   "source": [
    "values_sort = values[counts_arg]"
   ]
  },
  {
   "cell_type": "code",
   "execution_count": 118,
   "metadata": {},
   "outputs": [
    {
     "name": "stdout",
     "output_type": "stream",
     "text": [
      "valeur 0 apparait 1\n",
      "valeur 2 apparait 1\n",
      "valeur 1 apparait 2\n",
      "valeur 4 apparait 2\n",
      "valeur 6 apparait 2\n",
      "valeur 3 apparait 3\n",
      "valeur 5 apparait 3\n",
      "valeur 9 apparait 3\n",
      "valeur 7 apparait 4\n",
      "valeur 8 apparait 4\n"
     ]
    }
   ],
   "source": [
    "for i, j in zip(counts_arg, counts[counts_arg]):\n",
    "    print(f'valeur {i} apparait {j}')"
   ]
  }
 ],
 "metadata": {
  "kernelspec": {
   "display_name": ".venv",
   "language": "python",
   "name": "python3"
  },
  "language_info": {
   "codemirror_mode": {
    "name": "ipython",
    "version": 3
   },
   "file_extension": ".py",
   "mimetype": "text/x-python",
   "name": "python",
   "nbconvert_exporter": "python",
   "pygments_lexer": "ipython3",
   "version": "3.10.9"
  },
  "orig_nbformat": 4,
  "vscode": {
   "interpreter": {
    "hash": "f394ba83058c5a142df3c7e87c8296842715c2e07fd446e3acfd6cb9b123e2dc"
   }
  }
 },
 "nbformat": 4,
 "nbformat_minor": 2
}
